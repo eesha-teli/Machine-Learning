{
  "nbformat": 4,
  "nbformat_minor": 0,
  "metadata": {
    "colab": {
      "name": "Untitled10.ipynb",
      "provenance": [],
      "mount_file_id": "1pEuKap-Ni4hOKrPgitlgdFaz7gYqjwXJ",
      "authorship_tag": "ABX9TyNwwhf3NM8sRv9PTax6dLTz",
      "include_colab_link": true
    },
    "kernelspec": {
      "name": "python3",
      "display_name": "Python 3"
    },
    "language_info": {
      "name": "python"
    }
  },
  "cells": [
    {
      "cell_type": "markdown",
      "metadata": {
        "id": "view-in-github",
        "colab_type": "text"
      },
      "source": [
        "<a href=\"https://colab.research.google.com/github/eesha-teli/Machine-Learning/blob/main/CNN.ipynb\" target=\"_parent\"><img src=\"https://colab.research.google.com/assets/colab-badge.svg\" alt=\"Open In Colab\"/></a>"
      ]
    },
    {
      "cell_type": "code",
      "metadata": {
        "id": "noS-HkeqwmIU"
      },
      "source": [
        "import keras\n",
        "from keras.models import Sequential\n",
        "from keras.layers import Convolution2D\n",
        "from keras.layers import MaxPooling2D\n",
        "from keras.layers import Flatten\n",
        "from keras.layers import Dense"
      ],
      "execution_count": 1,
      "outputs": []
    },
    {
      "cell_type": "code",
      "metadata": {
        "id": "htUyV6mAwqt2"
      },
      "source": [
        "classifier= Sequential()"
      ],
      "execution_count": 2,
      "outputs": []
    },
    {
      "cell_type": "code",
      "metadata": {
        "id": "X86tz5Z6wvJC"
      },
      "source": [
        "classifier.add(Convolution2D(filters=32, # output feature maps\n",
        "                             kernel_size=(3,3), # matrix size for feature detector\n",
        "                             input_shape=(64, 64, 3), # input image shape, 3 is for rgb coloured image with 128*128 px\n",
        "                             kernel_initializer='he_uniform', # weights distriution\n",
        "                             activation='relu')) # activation function"
      ],
      "execution_count": 3,
      "outputs": []
    },
    {
      "cell_type": "code",
      "metadata": {
        "id": "46hNma-8w02m"
      },
      "source": [
        "classifier.add(MaxPooling2D(pool_size=(2,2)))"
      ],
      "execution_count": 4,
      "outputs": []
    },
    {
      "cell_type": "code",
      "metadata": {
        "id": "mAv4mW41w3aw"
      },
      "source": [
        "classifier.add(Convolution2D(filters=32,\n",
        "                             kernel_size=(3,3), \n",
        "                             kernel_initializer='he_uniform', \n",
        "                             activation='relu'))\n",
        "classifier.add(MaxPooling2D(pool_size=(2,2)))"
      ],
      "execution_count": 5,
      "outputs": []
    },
    {
      "cell_type": "code",
      "metadata": {
        "id": "W16ywWjaw55W"
      },
      "source": [
        "classifier.add(Flatten())"
      ],
      "execution_count": 6,
      "outputs": []
    },
    {
      "cell_type": "code",
      "metadata": {
        "id": "54SuMqxww9qq"
      },
      "source": [
        "#Step 4 full connection in which input we have from flattening\n",
        "\n",
        "classifier.add(Dense(units=128,kernel_initializer='glorot_uniform', activation='relu')) \n",
        "#step 5 output layer\n",
        "classifier.add(Dense(units=1,kernel_initializer='glorot_uniform',activation='sigmoid'))\n",
        "# Compiling the CNN\n",
        "classifier.compile(optimizer = 'adam', loss = 'binary_crossentropy', metrics = ['accuracy'])"
      ],
      "execution_count": 7,
      "outputs": []
    },
    {
      "cell_type": "code",
      "metadata": {
        "id": "txlgdSfuxBJz"
      },
      "source": [
        "from keras.preprocessing.image import ImageDataGenerator"
      ],
      "execution_count": 8,
      "outputs": []
    },
    {
      "cell_type": "code",
      "metadata": {
        "id": "tolh46FRxGBX"
      },
      "source": [
        "#applying all the transformation we want to apply to training data set\n",
        "train_datagen = ImageDataGenerator(rescale = 1./255,\n",
        "                                   shear_range = 0.2,\n",
        "                                   zoom_range = 0.2,\n",
        "                                   horizontal_flip = True)"
      ],
      "execution_count": 9,
      "outputs": []
    },
    {
      "cell_type": "code",
      "metadata": {
        "id": "8gjMBmHTxJUD"
      },
      "source": [
        "test_datagen= ImageDataGenerator(rescale=1./255)"
      ],
      "execution_count": 10,
      "outputs": []
    },
    {
      "cell_type": "code",
      "metadata": {
        "colab": {
          "base_uri": "https://localhost:8080/"
        },
        "id": "3o3vnUnZxMOJ",
        "outputId": "a7bbb860-503c-429a-8ca8-620c791d60a6"
      },
      "source": [
        "#Getting My training data ready for validation, so it will read all the data with the px size we gave.\n",
        "\n",
        "training_set= train_datagen.flow_from_directory(directory= '/content/drive/MyDrive/Dataset/Train',\n",
        "                                               target_size=(64,64), # As we choose 64*64 for our convolution model\n",
        "                                               batch_size=50,\n",
        "                                               class_mode='binary' # for 2 class binary \n",
        "                                               )"
      ],
      "execution_count": 12,
      "outputs": [
        {
          "output_type": "stream",
          "name": "stdout",
          "text": [
            "Found 1453 images belonging to 2 classes.\n"
          ]
        }
      ]
    },
    {
      "cell_type": "code",
      "metadata": {
        "colab": {
          "base_uri": "https://localhost:8080/"
        },
        "id": "RpIyVTomxPET",
        "outputId": "4e5bd4e9-19a0-4b1a-a644-cbde9ae96523"
      },
      "source": [
        "test_set= test_datagen.flow_from_directory(directory= '/content/drive/MyDrive/Dataset/Test',\n",
        "                                               target_size=(64,64), # As we choose 64*64 for our convolution model\n",
        "                                               batch_size=50,\n",
        "                                               class_mode='binary' # for 2 class binary\n",
        "                                          )"
      ],
      "execution_count": 13,
      "outputs": [
        {
          "output_type": "stream",
          "name": "stdout",
          "text": [
            "Found 355 images belonging to 2 classes.\n"
          ]
        }
      ]
    },
    {
      "cell_type": "code",
      "metadata": {
        "colab": {
          "base_uri": "https://localhost:8080/"
        },
        "id": "5D7AfHQIx_9u",
        "outputId": "3981db32-487e-4733-bed3-8e3e4ce5dc95"
      },
      "source": [
        "classifier.fit(training_set, #training data to fit\n",
        "                        steps_per_epoch=1453, # Data in training set\n",
        "                        epochs=1, # No of epochs to run\n",
        "                        validation_data=test_set, # Test or validation set\n",
        "                        validation_steps=355 # no of data point for validation\n",
        "                        )"
      ],
      "execution_count": 17,
      "outputs": [
        {
          "output_type": "stream",
          "name": "stdout",
          "text": [
            "  30/1453 [..............................] - ETA: 5:28:22 - loss: 0.6773 - accuracy: 0.5774WARNING:tensorflow:Your input ran out of data; interrupting training. Make sure that your dataset or generator can generate at least `steps_per_epoch * epochs` batches (in this case, 1453 batches). You may need to use the repeat() function when building your dataset.\n",
            "WARNING:tensorflow:Your input ran out of data; interrupting training. Make sure that your dataset or generator can generate at least `steps_per_epoch * epochs` batches (in this case, 355 batches). You may need to use the repeat() function when building your dataset.\n",
            "1453/1453 [==============================] - 632s 417ms/step - loss: 0.6773 - accuracy: 0.5774 - val_loss: 0.6812 - val_accuracy: 0.5972\n"
          ]
        },
        {
          "output_type": "execute_result",
          "data": {
            "text/plain": [
              "<keras.callbacks.History at 0x7f0afbe528d0>"
            ]
          },
          "metadata": {},
          "execution_count": 17
        }
      ]
    },
    {
      "cell_type": "code",
      "metadata": {
        "id": "ALzT10QJywh7"
      },
      "source": [
        "import numpy as np\n",
        "from keras.preprocessing import image\n",
        "test_image = image.load_img('/content/drive/MyDrive/Dataset/Test/Kidney_stone/1.3.46.670589.33.1.63706830475347975400001.4676991400730475635.png', target_size = (64, 64))\n",
        "# Loading the image and converting the pixels into array whcih will be used as input to predict.\n",
        "test_image = image.img_to_array(test_image)\n",
        "test_image = np.expand_dims(test_image, axis = 0)\n",
        "result = classifier.predict(test_image)\n",
        "training_set.class_indices\n",
        "if result[0][0] == 1:\n",
        "    prediction = 'yes'\n",
        "else:\n",
        "    prediction = 'no'"
      ],
      "execution_count": 20,
      "outputs": []
    },
    {
      "cell_type": "code",
      "metadata": {
        "colab": {
          "base_uri": "https://localhost:8080/"
        },
        "id": "qrlFlRxe1caf",
        "outputId": "3532fb0b-475d-4756-cf6b-dce13b0f464b"
      },
      "source": [
        "result"
      ],
      "execution_count": 21,
      "outputs": [
        {
          "output_type": "execute_result",
          "data": {
            "text/plain": [
              "array([[0.9748007]], dtype=float32)"
            ]
          },
          "metadata": {},
          "execution_count": 21
        }
      ]
    },
    {
      "cell_type": "code",
      "metadata": {
        "id": "6dOUaVRg19JS"
      },
      "source": [
        ""
      ],
      "execution_count": null,
      "outputs": []
    }
  ]
}